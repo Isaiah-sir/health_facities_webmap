{
 "cells": [
  {
   "cell_type": "code",
   "execution_count": 22,
   "id": "4f420122-1cef-4b44-ab85-c24e86a1ef61",
   "metadata": {},
   "outputs": [],
   "source": [
    "import pandas as pd\n",
    "import folium\n",
    "import geopandas as gpd\n",
    "import ipywidgets as widgets\n",
    "from IPython.display import display\n",
    "from folium.plugins import MarkerCluster, Search\n",
    "import matplotlib.pyplot as plt\n",
    "import seaborn as sns\n"
   ]
  },
  {
   "cell_type": "code",
   "execution_count": 36,
   "id": "7ae1a1ee-6ca7-486d-9be1-b61de2ba969d",
   "metadata": {},
   "outputs": [
    {
     "name": "stderr",
     "output_type": "stream",
     "text": [
      "<>:1: SyntaxWarning: invalid escape sequence '\\A'\n",
      "<>:1: SyntaxWarning: invalid escape sequence '\\A'\n",
      "C:\\Users\\user\\AppData\\Local\\Temp\\ipykernel_8488\\2014374052.py:1: SyntaxWarning: invalid escape sequence '\\A'\n",
      "  data = pd.read_csv(\"D:\\ANACONDA\\healthcare_facilities.csv\",encoding=\"cp1252\")\n"
     ]
    }
   ],
   "source": [
    "data = pd.read_csv(\"D:\\ANACONDA\\healthcare_facilities.csv\",encoding=\"cp1252\")\n",
    "\n",
    "\n"
   ]
  },
  {
   "cell_type": "code",
   "execution_count": 50,
   "id": "696742b3-d514-40be-b8dd-3d9675bd58bd",
   "metadata": {
    "scrolled": true
   },
   "outputs": [
    {
     "data": {
      "application/vnd.jupyter.widget-view+json": {
       "model_id": "16badcc8b45342d3ac52faf7bae7a381",
       "version_major": 2,
       "version_minor": 0
      },
      "text/plain": [
       "Dropdown(description='Facility Type:', options=('All', 'Dispensary', 'Medical Clinic', 'Nursing Home', 'Health…"
      ]
     },
     "metadata": {},
     "output_type": "display_data"
    },
    {
     "data": {
      "application/vnd.jupyter.widget-view+json": {
       "model_id": "b94357dc47f04ccd868a8e3917830542",
       "version_major": 2,
       "version_minor": 0
      },
      "text/plain": [
       "Output()"
      ]
     },
     "metadata": {},
     "output_type": "display_data"
    }
   ],
   "source": [
    "\n",
    "def create_map(facility_type='All'):\n",
    "    # Initialize the map centered on Kenya\n",
    "    kenya_map = folium.Map(location=[-1.286389, 36.817223], zoom_start=7)\n",
    "    # Add multiple tile layers\n",
    "    folium.TileLayer(\n",
    "    tiles='http://{s}.tile.stamen.com/terrain/{z}/{x}/{y}.jpg',\n",
    "    attr='Map tiles by Stamen Design, under CC BY 3.0. Data by OpenStreetMap, under ODbL.',\n",
    "    name='Stamen Terrain'\n",
    ").add_to(kenya_map)\n",
    "    title_html = '''\n",
    "             <h3 align=\"center\" style=\"font-size:20px\"><b>Healthcare Facilities in Kenya</b></h3>\n",
    "             '''\n",
    "    # Add a legend for facility types\n",
    "    legend_html = '''\n",
    "<div style=\"position: fixed; bottom: 50px; right: 50px; z-index:9999; font-size:14px; background-color:white; border:2px solid grey; padding:10px;\">\n",
    "    <b>Facility Types</b><br>\n",
    "    <i style=\"color:blue;\">&#9679;</i> Hospital<br>\n",
    "    <i style=\"color:green;\">&#9679;</i> Clinic<br>\n",
    "    <i style=\"color:red;\">&#9679;</i> Dispensary<br>\n",
    "    <i style=\"color:purple;\">&#9679;</i> Health Center<br>\n",
    "    <i style=\"color:gray;\">&#9679;</i> Other\n",
    "</div>\n",
    "'''\n",
    "    kenya_map.get_root().html.add_child(folium.Element(legend_html))\n",
    "    kenya_map.get_root().html.add_child(folium.Element(title_html))\n",
    "    \n",
    "\n",
    "    \n",
    "    \n",
    "    # Add marker cluster for better visualization\n",
    "    marker_cluster = MarkerCluster().add_to(kenya_map)\n",
    "    # Filter data based on facility type\n",
    "    if facility_type != 'All':\n",
    "        filtered_data = data[data['Type'] == facility_type]\n",
    "    else:\n",
    "        filtered_data = data\n",
    "    # Define colors for different facility types\n",
    "    facility_colors = {\n",
    "    'Hospital': 'blue',\n",
    "    'Clinic': 'green',\n",
    "    'Dispensary': 'red',\n",
    "    'Health Center': 'purple' \n",
    "    }   \n",
    "    \n",
    "    # Add markers for each health facility\n",
    "    for idx, row in filtered_data.iterrows():\n",
    "        # Set marker color based on facility type\n",
    "        color = facility_colors.get(facility_type, 'gray')\n",
    "        # Prepare popup content\n",
    "        popup_text = f\"<b>{row['Facility_N']}</b><br>Type: {row['Type']}<br>Services: {row['County']}\"\n",
    "        folium.Marker(\n",
    "            location=[row['Latitude'], row['Longitude']],\n",
    "            popup=popup_text,\n",
    "            icon=folium.Icon(color=color, icon='hospital', prefix='fa')\n",
    "        ).add_to(marker_cluster)\n",
    "    features = []\n",
    "    for idx, row in filtered_data.iterrows():\n",
    "        # Add marker\n",
    "        marker =popup_text\n",
    "             \n",
    " # Add search functionality\n",
    "    geojson_data = {'Facility_N': 'FeatureCollection', 'features': features}\n",
    "    Search(\n",
    "        layer=marker_cluster,\n",
    "        search_label='Facility_N',  # Search by facility name\n",
    "        placeholder='Search for a health facility name',\n",
    "        collapsed=False\n",
    "    ).add_to(kenya_map)       \n",
    "    \n",
    "    return kenya_map\n",
    " # Create widget for facility type selection\n",
    "facility_types = ['All'] + list(data['Type'].unique())\n",
    "type_dropdown = widgets.Dropdown(\n",
    "    options=facility_types,\n",
    "    value='All',\n",
    "    description='Facility Type:',\n",
    "    style={'description_width': 'initial'}\n",
    ") \n",
    "# Define interactive function\n",
    "def update_map(change):\n",
    "    map_display.clear_output()\n",
    "    with map_display:\n",
    "        display(create_map(facility_type=change['new']))\n",
    "\n",
    "# Link dropdown to map update\n",
    "type_dropdown.observe(update_map, names='value')\n",
    "\n",
    "# Create output widget for the map\n",
    "map_display = widgets.Output()\n",
    "\n",
    "\n",
    "# Display the dashboard\n",
    "display(type_dropdown)\n",
    "display(map_display)\n",
    "# Initialize the map\n",
    "with map_display:\n",
    "    display(create_map(facility_type='All'))"
   ]
  }
 ],
 "metadata": {
  "kernelspec": {
   "display_name": "Python 3 (ipykernel)",
   "language": "python",
   "name": "python3"
  },
  "language_info": {
   "codemirror_mode": {
    "name": "ipython",
    "version": 3
   },
   "file_extension": ".py",
   "mimetype": "text/x-python",
   "name": "python",
   "nbconvert_exporter": "python",
   "pygments_lexer": "ipython3",
   "version": "3.13.5"
  }
 },
 "nbformat": 4,
 "nbformat_minor": 5
}
